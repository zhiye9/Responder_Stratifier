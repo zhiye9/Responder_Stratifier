{
 "cells": [
  {
   "cell_type": "markdown",
   "id": "a3748b36",
   "metadata": {},
   "source": [
    "Causal Forest DML — Detect Feature Intervention Effect\n",
    "===============================================================\n",
    "**Outcome:** Blood urate (mg/dL) \n",
    "\n",
    "**Treatment:** Intervention on target feature\n",
    "\n",
    "**Covariates:** Confounders (age, BMI, microbiome, SNPs, blood tests) \n",
    "\n",
    "We estimate CATE in mg/dL per unit of target feature change.\n",
    "Clinical target: Change target feature by m units and lower urate by ≥ n mg/dL. Responders are subjects whose CATE is < m / n mg/dL per unit.\n",
    "\n",
    "The Causal Forest model was trained with HPP data and downloaded from their server. The training process is shown in the first part, but the data cannot be provided due to data privacy. \n",
    "\n",
    "### Training\n",
    "\n",
    "Set the target feature on which you want to intervene, and set the confounding variables as training data. Then train the Causal Forest (CF) with a Random Forest regressor."
   ]
  },
  {
   "cell_type": "code",
   "execution_count": null,
   "id": "e5ebfb18",
   "metadata": {},
   "outputs": [],
   "source": [
    "import numpy as np\n",
    "import pandas as pd\n",
    "import matplotlib.pyplot as plt\n",
    "import seaborn as sns\n",
    "from sklearn.model_selection import train_test_split\n",
    "from sklearn.preprocessing import KBinsDiscretizer\n",
    "from sklearn.ensemble import RandomForestRegressor\n",
    "from econml.dml import CausalForestDML\n",
    "import joblib\n",
    "\n",
    "# load train data\n",
    "df = pd.read_csv(\"data/urtate_data.csv\")\n",
    "\n",
    "# target diet\n",
    "target = \"Vegetables\"\n",
    "X_train = df.drop(columns=[target, \"bt__urate_float_value\"])\n",
    "y_train = df[\"bt__urate_float_value\"]\n",
    "T_train = df[target]\n",
    "\n",
    "\n",
    "# fitting causal forest\n",
    "model_y = RandomForestRegressor(n_estimators=600, max_depth=10,\n",
    "                             min_samples_leaf=10, max_features = 0.5, n_jobs=-1, random_state=9527)\n",
    "model_t = RandomForestRegressor(n_estimators=600, max_depth=10,\n",
    "                             min_samples_leaf=10, max_features = 0.5, n_jobs=-1, random_state=9527)\n",
    "\n",
    "cf = CausalForestDML(model_y=model_y, model_t=model_t,\n",
    "                     discrete_treatment=False,\n",
    "                     n_estimators=900,\n",
    "                     min_samples_leaf=10,\n",
    "                     max_depth=10,\n",
    "                     max_features = 0.5,\n",
    "                     cv=5,\n",
    "                     random_state=9527)\n",
    "cf.fit(y_train, T_train, X=X_train)\n",
    "\n",
    "# save model\n",
    "joblib.dump(cf, \"CausalForest_model.joblib\")"
   ]
  },
  {
   "cell_type": "markdown",
   "id": "2a5feefc",
   "metadata": {},
   "source": [
    "### Application\n",
    "\n",
    "Load the CF model and the dataset you want to classify responders for. Set the threshold of the clinical target and compute the CATE."
   ]
  },
  {
   "cell_type": "code",
   "execution_count": null,
   "id": "6477ca5c",
   "metadata": {},
   "outputs": [],
   "source": [
    "# load test data (subjects we want to classify) \n",
    "df_test = pd.read_csv(\"data/urtate_data_test.csv\")\n",
    "\n",
    "X_test = df_test.drop(columns=[target, \"bt__urate_float_value\"])\n",
    "\n",
    "# load Causal Forest model\n",
    "cf = joblib.load(\"models/CausalForest_model.joblib\")\n",
    "\n",
    "# compute CATE and ATE\n",
    "cate_hat = cf.effect(X_test)                    # mg/dL per +1 unit\n",
    "ate_hat = cf.ate(X_test)\n",
    "\n",
    "# conduct interventioon and classify responders, set urate drop 0.3 mg/dL as target and intervention with increasing 1 unit.\n",
    "clinic_target = -0.3   \n",
    "intervention = 1 \n",
    "threshold_prop = clinic_target / intervention   \n",
    "responders = (cate_hat < threshold_prop).ravel()\n",
    "\n",
    "print(f\"ATE : {ate_hat:.3f} mg/dL per proportion \")\n",
    "print(f\"Responders (<{clinic_target} mg/dL at {intervention} on {target}): \"\n",
    "      f\"{responders.sum()} / {len(responders)}\")"
   ]
  }
 ],
 "metadata": {
  "language_info": {
   "name": "python"
  }
 },
 "nbformat": 4,
 "nbformat_minor": 5
}
